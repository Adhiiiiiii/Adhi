{
  "nbformat": 4,
  "nbformat_minor": 0,
  "metadata": {
    "colab": {
      "provenance": []
    },
    "kernelspec": {
      "name": "python3",
      "display_name": "Python 3"
    },
    "language_info": {
      "name": "python"
    }
  },
  "cells": [
    {
      "cell_type": "code",
      "source": [
        "pip install playsound"
      ],
      "metadata": {
        "colab": {
          "base_uri": "https://localhost:8080/"
        },
        "id": "-EN4FqRz_Fri",
        "outputId": "7f2ba004-51f1-45f6-f07b-3f5082efb3ce"
      },
      "execution_count": 2,
      "outputs": [
        {
          "output_type": "stream",
          "name": "stdout",
          "text": [
            "Looking in indexes: https://pypi.org/simple, https://us-python.pkg.dev/colab-wheels/public/simple/\n",
            "Collecting playsound\n",
            "  Downloading playsound-1.3.0.tar.gz (7.7 kB)\n",
            "  Preparing metadata (setup.py) ... \u001b[?25l\u001b[?25hdone\n",
            "Building wheels for collected packages: playsound\n",
            "  Building wheel for playsound (setup.py) ... \u001b[?25l\u001b[?25hdone\n",
            "  Created wheel for playsound: filename=playsound-1.3.0-py3-none-any.whl size=7038 sha256=75bd2c2c2c426189729546c6d31f6ab1fa87003d1923e40a6a4c216c5fc1428a\n",
            "  Stored in directory: /root/.cache/pip/wheels/73/cd/cf/9750b618d54bd81c20e4c34fb24a423a5b095920367cdb3f71\n",
            "Successfully built playsound\n",
            "Installing collected packages: playsound\n",
            "Successfully installed playsound-1.3.0\n"
          ]
        }
      ]
    },
    {
      "cell_type": "code",
      "source": [
        "pip install SpeechRecognition"
      ],
      "metadata": {
        "colab": {
          "base_uri": "https://localhost:8080/"
        },
        "id": "AqXncVN-_gsk",
        "outputId": "8139f7ec-2b86-4001-fe3c-898896ca05aa"
      },
      "execution_count": 5,
      "outputs": [
        {
          "output_type": "stream",
          "name": "stdout",
          "text": [
            "Looking in indexes: https://pypi.org/simple, https://us-python.pkg.dev/colab-wheels/public/simple/\n",
            "Collecting SpeechRecognition\n",
            "  Downloading SpeechRecognition-3.9.0-py2.py3-none-any.whl (32.8 MB)\n",
            "\u001b[2K     \u001b[90m━━━━━━━━━━━━━━━━━━━━━━━━━━━━━━━━━━━━━━━━\u001b[0m \u001b[32m32.8/32.8 MB\u001b[0m \u001b[31m34.4 MB/s\u001b[0m eta \u001b[36m0:00:00\u001b[0m\n",
            "\u001b[?25hCollecting requests>=2.26.0\n",
            "  Downloading requests-2.28.2-py3-none-any.whl (62 kB)\n",
            "\u001b[2K     \u001b[90m━━━━━━━━━━━━━━━━━━━━━━━━━━━━━━━━━━━━━━━━\u001b[0m \u001b[32m62.8/62.8 KB\u001b[0m \u001b[31m7.1 MB/s\u001b[0m eta \u001b[36m0:00:00\u001b[0m\n",
            "\u001b[?25hRequirement already satisfied: certifi>=2017.4.17 in /usr/local/lib/python3.8/dist-packages (from requests>=2.26.0->SpeechRecognition) (2022.12.7)\n",
            "Requirement already satisfied: charset-normalizer<4,>=2 in /usr/local/lib/python3.8/dist-packages (from requests>=2.26.0->SpeechRecognition) (2.1.1)\n",
            "Requirement already satisfied: idna<4,>=2.5 in /usr/local/lib/python3.8/dist-packages (from requests>=2.26.0->SpeechRecognition) (2.10)\n",
            "Requirement already satisfied: urllib3<1.27,>=1.21.1 in /usr/local/lib/python3.8/dist-packages (from requests>=2.26.0->SpeechRecognition) (1.24.3)\n",
            "Installing collected packages: requests, SpeechRecognition\n",
            "  Attempting uninstall: requests\n",
            "    Found existing installation: requests 2.25.1\n",
            "    Uninstalling requests-2.25.1:\n",
            "      Successfully uninstalled requests-2.25.1\n",
            "Successfully installed SpeechRecognition-3.9.0 requests-2.28.2\n"
          ]
        }
      ]
    },
    {
      "cell_type": "code",
      "source": [
        "pip install googletrans"
      ],
      "metadata": {
        "colab": {
          "base_uri": "https://localhost:8080/"
        },
        "id": "Uts9IPd3_soy",
        "outputId": "fa33dc93-e7ce-4dd9-8a1f-dcbaa801de07"
      },
      "execution_count": 1,
      "outputs": [
        {
          "output_type": "stream",
          "name": "stdout",
          "text": [
            "Looking in indexes: https://pypi.org/simple, https://us-python.pkg.dev/colab-wheels/public/simple/\n",
            "Requirement already satisfied: googletrans in /usr/local/lib/python3.8/dist-packages (3.0.0)\n",
            "Requirement already satisfied: httpx==0.13.3 in /usr/local/lib/python3.8/dist-packages (from googletrans) (0.13.3)\n",
            "Requirement already satisfied: hstspreload in /usr/local/lib/python3.8/dist-packages (from httpx==0.13.3->googletrans) (2023.1.1)\n",
            "Requirement already satisfied: httpcore==0.9.* in /usr/local/lib/python3.8/dist-packages (from httpx==0.13.3->googletrans) (0.9.1)\n",
            "Requirement already satisfied: idna==2.* in /usr/local/lib/python3.8/dist-packages (from httpx==0.13.3->googletrans) (2.10)\n",
            "Requirement already satisfied: chardet==3.* in /usr/local/lib/python3.8/dist-packages (from httpx==0.13.3->googletrans) (3.0.4)\n",
            "Requirement already satisfied: rfc3986<2,>=1.3 in /usr/local/lib/python3.8/dist-packages (from httpx==0.13.3->googletrans) (1.5.0)\n",
            "Requirement already satisfied: sniffio in /usr/local/lib/python3.8/dist-packages (from httpx==0.13.3->googletrans) (1.3.0)\n",
            "Requirement already satisfied: certifi in /usr/local/lib/python3.8/dist-packages (from httpx==0.13.3->googletrans) (2022.12.7)\n",
            "Requirement already satisfied: h2==3.* in /usr/local/lib/python3.8/dist-packages (from httpcore==0.9.*->httpx==0.13.3->googletrans) (3.2.0)\n",
            "Requirement already satisfied: h11<0.10,>=0.8 in /usr/local/lib/python3.8/dist-packages (from httpcore==0.9.*->httpx==0.13.3->googletrans) (0.9.0)\n",
            "Requirement already satisfied: hpack<4,>=3.0 in /usr/local/lib/python3.8/dist-packages (from h2==3.*->httpcore==0.9.*->httpx==0.13.3->googletrans) (3.0.0)\n",
            "Requirement already satisfied: hyperframe<6,>=5.2.0 in /usr/local/lib/python3.8/dist-packages (from h2==3.*->httpcore==0.9.*->httpx==0.13.3->googletrans) (5.2.0)\n"
          ]
        }
      ]
    },
    {
      "cell_type": "code",
      "source": [
        "pip install gTTs"
      ],
      "metadata": {
        "colab": {
          "base_uri": "https://localhost:8080/"
        },
        "id": "HSyta8BSANP5",
        "outputId": "40ee2534-8144-4cf0-d6fe-cf9f0506995b"
      },
      "execution_count": 3,
      "outputs": [
        {
          "output_type": "stream",
          "name": "stdout",
          "text": [
            "Looking in indexes: https://pypi.org/simple, https://us-python.pkg.dev/colab-wheels/public/simple/\n",
            "Collecting gTTs\n",
            "  Downloading gTTS-2.3.1-py3-none-any.whl (28 kB)\n",
            "Requirement already satisfied: click<8.2,>=7.1 in /usr/local/lib/python3.8/dist-packages (from gTTs) (7.1.2)\n",
            "Requirement already satisfied: requests<3,>=2.27 in /usr/local/lib/python3.8/dist-packages (from gTTs) (2.28.2)\n",
            "Requirement already satisfied: idna<4,>=2.5 in /usr/local/lib/python3.8/dist-packages (from requests<3,>=2.27->gTTs) (2.10)\n",
            "Requirement already satisfied: certifi>=2017.4.17 in /usr/local/lib/python3.8/dist-packages (from requests<3,>=2.27->gTTs) (2022.12.7)\n",
            "Requirement already satisfied: charset-normalizer<4,>=2 in /usr/local/lib/python3.8/dist-packages (from requests<3,>=2.27->gTTs) (2.1.1)\n",
            "Requirement already satisfied: urllib3<1.27,>=1.21.1 in /usr/local/lib/python3.8/dist-packages (from requests<3,>=2.27->gTTs) (1.24.3)\n",
            "Installing collected packages: gTTs\n",
            "Successfully installed gTTs-2.3.1\n"
          ]
        }
      ]
    },
    {
      "cell_type": "code",
      "source": [
        "pip install gTTS-token"
      ],
      "metadata": {
        "colab": {
          "base_uri": "https://localhost:8080/"
        },
        "id": "TIb64sF7AR3F",
        "outputId": "325f4f09-ea62-4c01-8513-ba26489beda2"
      },
      "execution_count": 4,
      "outputs": [
        {
          "output_type": "stream",
          "name": "stdout",
          "text": [
            "Looking in indexes: https://pypi.org/simple, https://us-python.pkg.dev/colab-wheels/public/simple/\n",
            "Collecting gTTS-token\n",
            "  Downloading gTTS-token-1.1.4.tar.gz (3.9 kB)\n",
            "  Preparing metadata (setup.py) ... \u001b[?25l\u001b[?25hdone\n",
            "Requirement already satisfied: requests in /usr/local/lib/python3.8/dist-packages (from gTTS-token) (2.28.2)\n",
            "Requirement already satisfied: urllib3<1.27,>=1.21.1 in /usr/local/lib/python3.8/dist-packages (from requests->gTTS-token) (1.24.3)\n",
            "Requirement already satisfied: certifi>=2017.4.17 in /usr/local/lib/python3.8/dist-packages (from requests->gTTS-token) (2022.12.7)\n",
            "Requirement already satisfied: idna<4,>=2.5 in /usr/local/lib/python3.8/dist-packages (from requests->gTTS-token) (2.10)\n",
            "Requirement already satisfied: charset-normalizer<4,>=2 in /usr/local/lib/python3.8/dist-packages (from requests->gTTS-token) (2.1.1)\n",
            "Building wheels for collected packages: gTTS-token\n",
            "  Building wheel for gTTS-token (setup.py) ... \u001b[?25l\u001b[?25hdone\n",
            "  Created wheel for gTTS-token: filename=gTTS_token-1.1.4-py3-none-any.whl size=4260 sha256=5f094a1595d7da7df2186a70ddf16cbac006b8df9d4218d5780ab04cd86da2ea\n",
            "  Stored in directory: /root/.cache/pip/wheels/46/93/a9/cbb381b6c1e0cedaf17fffdab1c2f6810c42c26aa05fdb75a6\n",
            "Successfully built gTTS-token\n",
            "Installing collected packages: gTTS-token\n",
            "Successfully installed gTTS-token-1.1.4\n"
          ]
        }
      ]
    },
    {
      "cell_type": "code",
      "execution_count": 5,
      "metadata": {
        "colab": {
          "base_uri": "https://localhost:8080/",
          "height": 432
        },
        "id": "uxYei5_A9T1y",
        "outputId": "3a865131-f8a4-4bf0-b2cf-7045ee9e0f5b"
      },
      "outputs": [
        {
          "output_type": "error",
          "ename": "AttributeError",
          "evalue": "ignored",
          "traceback": [
            "\u001b[0;31m---------------------------------------------------------------------------\u001b[0m",
            "\u001b[0;31mModuleNotFoundError\u001b[0m                       Traceback (most recent call last)",
            "\u001b[0;32m/usr/local/lib/python3.8/dist-packages/speech_recognition/__init__.py\u001b[0m in \u001b[0;36mget_pyaudio\u001b[0;34m()\u001b[0m\n\u001b[1;32m    119\u001b[0m         \u001b[0;32mtry\u001b[0m\u001b[0;34m:\u001b[0m\u001b[0;34m\u001b[0m\u001b[0;34m\u001b[0m\u001b[0m\n\u001b[0;32m--> 120\u001b[0;31m             \u001b[0;32mimport\u001b[0m \u001b[0mpyaudio\u001b[0m\u001b[0;34m\u001b[0m\u001b[0;34m\u001b[0m\u001b[0m\n\u001b[0m\u001b[1;32m    121\u001b[0m         \u001b[0;32mexcept\u001b[0m \u001b[0mImportError\u001b[0m\u001b[0;34m:\u001b[0m\u001b[0;34m\u001b[0m\u001b[0;34m\u001b[0m\u001b[0m\n",
            "\u001b[0;31mModuleNotFoundError\u001b[0m: No module named 'pyaudio'",
            "\nDuring handling of the above exception, another exception occurred:\n",
            "\u001b[0;31mAttributeError\u001b[0m                            Traceback (most recent call last)",
            "\u001b[0;32m<ipython-input-5-1250db88fdde>\u001b[0m in \u001b[0;36m<module>\u001b[0;34m\u001b[0m\n\u001b[1;32m     79\u001b[0m \u001b[0;31m# Input from user\u001b[0m\u001b[0;34m\u001b[0m\u001b[0;34m\u001b[0m\u001b[0;34m\u001b[0m\u001b[0m\n\u001b[1;32m     80\u001b[0m \u001b[0;31m# Make input to lowercase\u001b[0m\u001b[0;34m\u001b[0m\u001b[0;34m\u001b[0m\u001b[0;34m\u001b[0m\u001b[0m\n\u001b[0;32m---> 81\u001b[0;31m \u001b[0mquery\u001b[0m \u001b[0;34m=\u001b[0m \u001b[0mtakecommand\u001b[0m\u001b[0;34m(\u001b[0m\u001b[0;34m)\u001b[0m\u001b[0;34m\u001b[0m\u001b[0;34m\u001b[0m\u001b[0m\n\u001b[0m\u001b[1;32m     82\u001b[0m \u001b[0;32mwhile\u001b[0m \u001b[0;34m(\u001b[0m\u001b[0mquery\u001b[0m \u001b[0;34m==\u001b[0m \u001b[0;34m\"None\"\u001b[0m\u001b[0;34m)\u001b[0m\u001b[0;34m:\u001b[0m\u001b[0;34m\u001b[0m\u001b[0;34m\u001b[0m\u001b[0m\n\u001b[1;32m     83\u001b[0m         \u001b[0mquery\u001b[0m \u001b[0;34m=\u001b[0m \u001b[0mtakecommand\u001b[0m\u001b[0;34m(\u001b[0m\u001b[0;34m)\u001b[0m\u001b[0;34m\u001b[0m\u001b[0;34m\u001b[0m\u001b[0m\n",
            "\u001b[0;32m<ipython-input-5-1250db88fdde>\u001b[0m in \u001b[0;36mtakecommand\u001b[0;34m()\u001b[0m\n\u001b[1;32m     62\u001b[0m \u001b[0;32mdef\u001b[0m \u001b[0mtakecommand\u001b[0m\u001b[0;34m(\u001b[0m\u001b[0;34m)\u001b[0m\u001b[0;34m:\u001b[0m\u001b[0;34m\u001b[0m\u001b[0;34m\u001b[0m\u001b[0m\n\u001b[1;32m     63\u001b[0m         \u001b[0mr\u001b[0m \u001b[0;34m=\u001b[0m \u001b[0msr\u001b[0m\u001b[0;34m.\u001b[0m\u001b[0mRecognizer\u001b[0m\u001b[0;34m(\u001b[0m\u001b[0;34m)\u001b[0m\u001b[0;34m\u001b[0m\u001b[0;34m\u001b[0m\u001b[0m\n\u001b[0;32m---> 64\u001b[0;31m         \u001b[0;32mwith\u001b[0m \u001b[0msr\u001b[0m\u001b[0;34m.\u001b[0m\u001b[0mMicrophone\u001b[0m\u001b[0;34m(\u001b[0m\u001b[0;34m)\u001b[0m \u001b[0;32mas\u001b[0m \u001b[0msource\u001b[0m\u001b[0;34m:\u001b[0m\u001b[0;34m\u001b[0m\u001b[0;34m\u001b[0m\u001b[0m\n\u001b[0m\u001b[1;32m     65\u001b[0m                 \u001b[0mprint\u001b[0m\u001b[0;34m(\u001b[0m\u001b[0;34m\"listening.....\"\u001b[0m\u001b[0;34m)\u001b[0m\u001b[0;34m\u001b[0m\u001b[0;34m\u001b[0m\u001b[0m\n\u001b[1;32m     66\u001b[0m                 \u001b[0mr\u001b[0m\u001b[0;34m.\u001b[0m\u001b[0mpause_threshold\u001b[0m \u001b[0;34m=\u001b[0m \u001b[0;36m1\u001b[0m\u001b[0;34m\u001b[0m\u001b[0;34m\u001b[0m\u001b[0m\n",
            "\u001b[0;32m/usr/local/lib/python3.8/dist-packages/speech_recognition/__init__.py\u001b[0m in \u001b[0;36m__init__\u001b[0;34m(self, device_index, sample_rate, chunk_size)\u001b[0m\n\u001b[1;32m     90\u001b[0m \u001b[0;34m\u001b[0m\u001b[0m\n\u001b[1;32m     91\u001b[0m         \u001b[0;31m# set up PyAudio\u001b[0m\u001b[0;34m\u001b[0m\u001b[0;34m\u001b[0m\u001b[0;34m\u001b[0m\u001b[0m\n\u001b[0;32m---> 92\u001b[0;31m         \u001b[0mself\u001b[0m\u001b[0;34m.\u001b[0m\u001b[0mpyaudio_module\u001b[0m \u001b[0;34m=\u001b[0m \u001b[0mself\u001b[0m\u001b[0;34m.\u001b[0m\u001b[0mget_pyaudio\u001b[0m\u001b[0;34m(\u001b[0m\u001b[0;34m)\u001b[0m\u001b[0;34m\u001b[0m\u001b[0;34m\u001b[0m\u001b[0m\n\u001b[0m\u001b[1;32m     93\u001b[0m         \u001b[0maudio\u001b[0m \u001b[0;34m=\u001b[0m \u001b[0mself\u001b[0m\u001b[0;34m.\u001b[0m\u001b[0mpyaudio_module\u001b[0m\u001b[0;34m.\u001b[0m\u001b[0mPyAudio\u001b[0m\u001b[0;34m(\u001b[0m\u001b[0;34m)\u001b[0m\u001b[0;34m\u001b[0m\u001b[0;34m\u001b[0m\u001b[0m\n\u001b[1;32m     94\u001b[0m         \u001b[0;32mtry\u001b[0m\u001b[0;34m:\u001b[0m\u001b[0;34m\u001b[0m\u001b[0;34m\u001b[0m\u001b[0m\n",
            "\u001b[0;32m/usr/local/lib/python3.8/dist-packages/speech_recognition/__init__.py\u001b[0m in \u001b[0;36mget_pyaudio\u001b[0;34m()\u001b[0m\n\u001b[1;32m    120\u001b[0m             \u001b[0;32mimport\u001b[0m \u001b[0mpyaudio\u001b[0m\u001b[0;34m\u001b[0m\u001b[0;34m\u001b[0m\u001b[0m\n\u001b[1;32m    121\u001b[0m         \u001b[0;32mexcept\u001b[0m \u001b[0mImportError\u001b[0m\u001b[0;34m:\u001b[0m\u001b[0;34m\u001b[0m\u001b[0;34m\u001b[0m\u001b[0m\n\u001b[0;32m--> 122\u001b[0;31m             \u001b[0;32mraise\u001b[0m \u001b[0mAttributeError\u001b[0m\u001b[0;34m(\u001b[0m\u001b[0;34m\"Could not find PyAudio; check installation\"\u001b[0m\u001b[0;34m)\u001b[0m\u001b[0;34m\u001b[0m\u001b[0;34m\u001b[0m\u001b[0m\n\u001b[0m\u001b[1;32m    123\u001b[0m         \u001b[0;32mfrom\u001b[0m \u001b[0mdistutils\u001b[0m\u001b[0;34m.\u001b[0m\u001b[0mversion\u001b[0m \u001b[0;32mimport\u001b[0m \u001b[0mLooseVersion\u001b[0m\u001b[0;34m\u001b[0m\u001b[0;34m\u001b[0m\u001b[0m\n\u001b[1;32m    124\u001b[0m         \u001b[0;32mif\u001b[0m \u001b[0mLooseVersion\u001b[0m\u001b[0;34m(\u001b[0m\u001b[0mpyaudio\u001b[0m\u001b[0;34m.\u001b[0m\u001b[0m__version__\u001b[0m\u001b[0;34m)\u001b[0m \u001b[0;34m<\u001b[0m \u001b[0mLooseVersion\u001b[0m\u001b[0;34m(\u001b[0m\u001b[0;34m\"0.2.11\"\u001b[0m\u001b[0;34m)\u001b[0m\u001b[0;34m:\u001b[0m\u001b[0;34m\u001b[0m\u001b[0;34m\u001b[0m\u001b[0m\n",
            "\u001b[0;31mAttributeError\u001b[0m: Could not find PyAudio; check installation"
          ]
        }
      ],
      "source": [
        "# Importing necessary modules required\n",
        "from playsound import playsound\n",
        "import speech_recognition as sr\n",
        "from googletrans import Translator\n",
        "from gtts import gTTS\n",
        "import os\n",
        "flag = 0\n",
        "\n",
        "# A tuple containing all the language and\n",
        "# codes of the language will be detcted\n",
        "dic = ('afrikaans', 'af', 'albanian', 'sq',\n",
        "\t'amharic', 'am', 'arabic', 'ar',\n",
        "\t'armenian', 'hy', 'azerbaijani', 'az',\n",
        "\t'basque', 'eu', 'belarusian', 'be',\n",
        "\t'bengali', 'bn', 'bosnian', 'bs', 'bulgarian',\n",
        "\t'bg', 'catalan', 'ca', 'cebuano',\n",
        "\t'ceb', 'chichewa', 'ny', 'chinese (simplified)',\n",
        "\t'zh-cn', 'chinese (traditional)',\n",
        "\t'zh-tw', 'corsican', 'co', 'croatian', 'hr',\n",
        "\t'czech', 'cs', 'danish', 'da', 'dutch',\n",
        "\t'nl', 'english', 'en', 'esperanto', 'eo',\n",
        "\t'estonian', 'et', 'filipino', 'tl', 'finnish',\n",
        "\t'fi', 'french', 'fr', 'frisian', 'fy', 'galician',\n",
        "\t'gl', 'georgian', 'ka', 'german',\n",
        "\t'de', 'greek', 'el', 'gujarati', 'gu',\n",
        "\t'haitian creole', 'ht', 'hausa', 'ha',\n",
        "\t'hawaiian', 'haw', 'hebrew', 'he', 'hindi',\n",
        "\t'hi', 'hmong', 'hmn', 'hungarian',\n",
        "\t'hu', 'icelandic', 'is', 'igbo', 'ig', 'indonesian',\n",
        "\t'id', 'irish', 'ga', 'italian',\n",
        "\t'it', 'japanese', 'ja', 'javanese', 'jw',\n",
        "\t'kannada', 'kn', 'kazakh', 'kk', 'khmer',\n",
        "\t'km', 'korean', 'ko', 'kurdish (kurmanji)',\n",
        "\t'ku', 'kyrgyz', 'ky', 'lao', 'lo',\n",
        "\t'latin', 'la', 'latvian', 'lv', 'lithuanian',\n",
        "\t'lt', 'luxembourgish', 'lb',\n",
        "\t'macedonian', 'mk', 'malagasy', 'mg', 'malay',\n",
        "\t'ms', 'malayalam', 'ml', 'maltese',\n",
        "\t'mt', 'maori', 'mi', 'marathi', 'mr', 'mongolian',\n",
        "\t'mn', 'myanmar (burmese)', 'my',\n",
        "\t'nepali', 'ne', 'norwegian', 'no', 'odia', 'or',\n",
        "\t'pashto', 'ps', 'persian', 'fa',\n",
        "\t'polish', 'pl', 'portuguese', 'pt', 'punjabi',\n",
        "\t'pa', 'romanian', 'ro', 'russian',\n",
        "\t'ru', 'samoan', 'sm', 'scots gaelic', 'gd',\n",
        "\t'serbian', 'sr', 'sesotho', 'st',\n",
        "\t'shona', 'sn', 'sindhi', 'sd', 'sinhala', 'si',\n",
        "\t'slovak', 'sk', 'slovenian', 'sl',\n",
        "\t'somali', 'so', 'spanish', 'es', 'sundanese',\n",
        "\t'su', 'swahili', 'sw', 'swedish',\n",
        "\t'sv', 'tajik', 'tg', 'tamil', 'ta', 'telugu',\n",
        "\t'te', 'thai', 'th', 'turkish',\n",
        "\t'tr', 'ukrainian', 'uk', 'urdu', 'ur', 'uyghur',\n",
        "\t'ug', 'uzbek', 'uz',\n",
        "\t'vietnamese', 'vi', 'welsh', 'cy', 'xhosa', 'xh',\n",
        "\t'yiddish', 'yi', 'yoruba',\n",
        "\t'yo', 'zulu', 'zu')\n",
        "\n",
        "\n",
        "# Capture Voice\n",
        "# takes command through microphone\n",
        "def takecommand():\n",
        "\tr = sr.Recognizer()\n",
        "\twith sr.Microphone() as source:\n",
        "\t\tprint(\"listening.....\")\n",
        "\t\tr.pause_threshold = 1\n",
        "\t\taudio = r.listen(source)\n",
        "\n",
        "\ttry:\n",
        "\t\tprint(\"Recognizing.....\")\n",
        "\t\tquery = r.recognize_google(audio, language='en-in')\n",
        "\t\tprint(f\"The User said {query}\\n\")\n",
        "\texcept Exception as e:\n",
        "\t\tprint(\"say that again please.....\")\n",
        "\t\treturn \"None\"\n",
        "\treturn query\n",
        "\n",
        "\n",
        "# Input from user\n",
        "# Make input to lowercase\n",
        "query = takecommand()\n",
        "while (query == \"None\"):\n",
        "\tquery = takecommand()\n",
        "\n",
        "\n",
        "def destination_language():\n",
        "\tprint(\"Enter the language in which you\\\n",
        "\twant to convert : Ex. Hindi , English , etc.\")\n",
        "\tprint()\n",
        "\t\n",
        "\t# Input destination language in\n",
        "\t# which the user wants to translate\n",
        "\tto_lang = takecommand()\n",
        "\twhile (to_lang == \"None\"):\n",
        "\t\tto_lang = takecommand()\n",
        "\tto_lang = to_lang.lower()\n",
        "\treturn to_lang\n",
        "\n",
        "to_lang = destination_language()\n",
        "\n",
        "# Mapping it with the code\n",
        "while (to_lang not in dic):\n",
        "\tprint(\"Language in which you are trying\\\n",
        "\tto convert is currently not available ,\\\n",
        "\tplease input some other language\")\n",
        "\tprint()\n",
        "\tto_lang = destination_language()\n",
        "\n",
        "to_lang = dic[dic.index(to_lang)+1]\n",
        "\n",
        "\n",
        "translator = Translator()\n",
        "\n",
        "\n",
        "text_to_translate = translator.translate(query, dest=to_lang)\n",
        "\n",
        "text = text_to_translate.text\n",
        "\n",
        "\n",
        "speak = gTTS(text=text, lang=to_lang, slow=False)\n",
        "\n",
        "speak.save(\"captured_voice.mp3\")\n",
        "\n",
        "\n",
        "playsound('captured_voice.mp3')\n",
        "os.remove('captured_voice.mp3')\n",
        "\n",
        "\n",
        "print(text)\n"
      ]
    }
  ]
}